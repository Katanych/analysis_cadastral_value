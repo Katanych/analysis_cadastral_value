{
  "nbformat": 4,
  "nbformat_minor": 0,
  "metadata": {
    "colab": {
      "provenance": []
    },
    "kernelspec": {
      "name": "python3",
      "display_name": "Python 3"
    },
    "language_info": {
      "name": "python"
    }
  },
  "cells": [
    {
      "cell_type": "markdown",
      "source": [
        "# Анализ кадастровой стоимости земели в Томском регионе для целей ЛПХ и сельского хозяйства"
      ],
      "metadata": {
        "id": "TXo1bKaXVrd-"
      }
    },
    {
      "cell_type": "markdown",
      "source": [
        "# 1 Анализ кадастровой стоимости земли для целей сельского хозяйства"
      ],
      "metadata": {
        "id": "vBOaBwjK7eMC"
      }
    },
    {
      "cell_type": "markdown",
      "source": [
        "##1.1 Подключим необходимые библиотеки и объявим основные переменные"
      ],
      "metadata": {
        "id": "m2EIE6emV_Er"
      }
    },
    {
      "cell_type": "markdown",
      "source": [
        "В качестве основных переменных выступают:\n",
        "* `df` - таблица с данными;\n",
        "* `path_dataset`- путь до датасета в google drive."
      ],
      "metadata": {
        "id": "vAYJVac9WGRo"
      }
    },
    {
      "cell_type": "code",
      "source": [
        "# Работа с данными\n",
        "from pathlib import Path\n",
        "import json\n",
        "import pandas as pd\n",
        "from google.colab import drive\n",
        "\n",
        "# Визуализация\n",
        "import matplotlib.pyplot as plt\n",
        "import seaborn as sns\n",
        "import math\n",
        "from collections import Counter\n",
        "\n",
        "# Подсчет дистанции\n",
        "from geopy.geocoders import Nominatim\n",
        "from geopy.distance import geodesic\n",
        "\n",
        "drive.mount('/content/drive')\n",
        "agro_purpose_df = pd.DataFrame(columns=[\"площадь\", \"упкс\", \"локация\"])\n",
        "path_dataset = '/content/drive/MyDrive/cad_dataset/'\n",
        "path_list = Path(path_dataset).glob('*.json')\n",
        "None"
      ],
      "metadata": {
        "colab": {
          "base_uri": "https://localhost:8080/"
        },
        "id": "UA5RGSttsY9h",
        "outputId": "70402470-0b0c-4aa8-c93c-3345956617d2"
      },
      "execution_count": null,
      "outputs": [
        {
          "output_type": "stream",
          "name": "stdout",
          "text": [
            "Drive already mounted at /content/drive; to attempt to forcibly remount, call drive.mount(\"/content/drive\", force_remount=True).\n"
          ]
        }
      ]
    },
    {
      "cell_type": "markdown",
      "source": [
        "## 1.2 Выгрузим необходимую информацию\n",
        "Нас интересуют в первую очередь такие столбцы:\n",
        "* `площадь` - площадь земли, измеряемая в квадратных метрах;\n",
        "* `УПКС`- удельный показатель кадастровой стоимости;\n",
        "* `адрес` - регион, город, район и улица земельного участка."
      ],
      "metadata": {
        "id": "ucPmSgkoVww6"
      }
    },
    {
      "cell_type": "code",
      "source": [
        "agro_purpose_df = pd.DataFrame(columns=[\"площадь\", \"упкс\", \"локация\"])\n",
        "for path in path_list:\n",
        "  with open(path, encoding=\"utf-8\") as f:\n",
        "    data = f.read()\n",
        "  data =  json.loads(data)\n",
        "  for row in data:\n",
        "    if ('text' in row['purpose'] and\n",
        "        row['purpose']['text'] == \"Для сельскохозяйственного использования\" and\n",
        "        'locality' in row['address']):\n",
        "      agro_purpose_df.loc[len(agro_purpose_df.index )] = [row['area'], row['cadCost']['upks'], row['address']['locality']]\n",
        "agro_purpose_df.to_csv(path_dataset + \"itog.csv\")"
      ],
      "metadata": {
        "id": "IUGDihzHuuCo"
      },
      "execution_count": null,
      "outputs": []
    },
    {
      "cell_type": "markdown",
      "source": [
        "## 1.3 Создание нового признака `расстояние` населенного пункта до ближайшего города"
      ],
      "metadata": {
        "id": "VcV5mrb6XnIp"
      }
    },
    {
      "cell_type": "markdown",
      "source": [
        "Загрузим данные"
      ],
      "metadata": {
        "id": "_mujsvHUYSqC"
      }
    },
    {
      "cell_type": "code",
      "source": [
        "agro_purpose_df = pd.read_csv(path_dataset + \"itog.csv\")"
      ],
      "metadata": {
        "id": "jKcPY3jc55v8"
      },
      "execution_count": null,
      "outputs": []
    },
    {
      "cell_type": "markdown",
      "source": [
        "Отсортируем цену по возрастанию и отсечем выбросы. Можно заметить, что цена варируется от 0.2 до 2.5 рублей за квадратный метр."
      ],
      "metadata": {
        "id": "NJij3kxUYT6w"
      }
    },
    {
      "cell_type": "code",
      "source": [
        "tmp2 = sorted(agro_purpose_df['упкс'])[:1690]\n",
        "plt.bar(range(len(tmp2)), tmp2, color = 'blue')"
      ],
      "metadata": {
        "colab": {
          "base_uri": "https://localhost:8080/",
          "height": 282
        },
        "id": "2kwYEI3n3AfJ",
        "outputId": "caa19002-bc62-4ece-f3bd-67778e758e14"
      },
      "execution_count": null,
      "outputs": [
        {
          "output_type": "execute_result",
          "data": {
            "text/plain": [
              "<BarContainer object of 1690 artists>"
            ]
          },
          "metadata": {},
          "execution_count": 110
        },
        {
          "output_type": "display_data",
          "data": {
            "text/plain": [
              "<Figure size 432x288 with 1 Axes>"
            ],
            "image/png": "[encoded data removed]"
          },
          "metadata": {
            "needs_background": "light"
          }
        }
      ]
    },
    {
      "cell_type": "markdown",
      "source": [
        "Создаем короткий и полный список деревень"
      ],
      "metadata": {
        "id": "MmJxkSd0zyUf"
      }
    },
    {
      "cell_type": "code",
      "source": [
        "villages = []\n",
        "for row in agro_purpose_df['локация']:\n",
        "  villages.append(row)\n",
        "short_villages = list(Counter(villages).keys())"
      ],
      "metadata": {
        "id": "qf0ZdK0kaIbk"
      },
      "execution_count": null,
      "outputs": []
    },
    {
      "cell_type": "markdown",
      "source": [
        "Находим географические координаты основных городов Томской области"
      ],
      "metadata": {
        "id": "RUuatcjDz_ZF"
      }
    },
    {
      "cell_type": "code",
      "source": [
        "citys = dict()\n",
        "\n",
        "cities = [\"Томск\", \"Асино\", \"Колпашево\", \"Стрежевой\"]\n",
        "country = \"Россия, Томская область,\"\n",
        "\n",
        "for city in cities:\n",
        "  geolocator = Nominatim(user_agent=\"Tester\")\n",
        "  location_1 = geolocator.geocode(country + city)\n",
        "  citys[city] = (location_1.latitude, location_1.longitude)\n",
        "\n",
        "citys"
      ],
      "metadata": {
        "colab": {
          "base_uri": "https://localhost:8080/"
        },
        "id": "aOWGBORukK--",
        "outputId": "1a30aa23-7437-40e3-da35-d69a931d9864"
      },
      "execution_count": null,
      "outputs": [
        {
          "output_type": "execute_result",
          "data": {
            "text/plain": [
              "{'Томск': (56.4884594, 84.9527189),\n",
              " 'Асино': (56.999187, 86.14167),\n",
              " 'Колпашево': (58.313667, 82.903557),\n",
              " 'Стрежевой': (60.732758, 77.600807)}"
            ]
          },
          "metadata": {},
          "execution_count": 138
        }
      ]
    },
    {
      "cell_type": "code",
      "source": [
        "def dist_near_city(address_1):\n",
        "  min_dist = 10000000;\n",
        "  for city in citys:\n",
        "    geolocator = Nominatim(user_agent=\"Tester\", timeout=None)\n",
        "    location_1 = geolocator.geocode(country + address_1)\n",
        "    if not location_1:\n",
        "      min_dist = 50.0\n",
        "      break\n",
        "    gps_point_1 = location_1.latitude, location_1.longitude\n",
        "    if geodesic(gps_point_1, citys[city]).kilometers < min_dist:\n",
        "      min_dist = geodesic(gps_point_1, citys[city]).kilometers\n",
        "\n",
        "  return min_dist"
      ],
      "metadata": {
        "id": "jvOXLbF8clRU"
      },
      "execution_count": null,
      "outputs": []
    },
    {
      "cell_type": "markdown",
      "source": [
        "Формируем словарь расстояний деревень до ближайших городов"
      ],
      "metadata": {
        "id": "3kad4Nas0Gxj"
      }
    },
    {
      "cell_type": "code",
      "source": [
        "dists = dict()\n",
        "\n",
        "counter = 0\n",
        "for village in short_villages:\n",
        "  dists[village] = dist_near_city(village)\n"
      ],
      "metadata": {
        "id": "dRaR6_tnu5z0"
      },
      "execution_count": null,
      "outputs": []
    },
    {
      "cell_type": "markdown",
      "source": [
        "Добавляем столбец `расстояние` в исходную таблицу и сохраняем"
      ],
      "metadata": {
        "id": "J7pA-1wj0Vu3"
      }
    },
    {
      "cell_type": "code",
      "source": [
        "d = []\n",
        "counter = 0\n",
        "for village in villages:\n",
        "  d.append(dists[village])\n",
        "agro_purpose_df['расстояние'] = d\n",
        "agro_purpose_df.to_csv(path_dataset + \"agro.csv\")"
      ],
      "metadata": {
        "id": "eQCPKOMThd2L"
      },
      "execution_count": null,
      "outputs": []
    },
    {
      "cell_type": "code",
      "source": [
        "agro_purpose_df = pd.read_csv(path_dataset + \"agro.csv\")"
      ],
      "metadata": {
        "id": "9ViDW0sse7d4"
      },
      "execution_count": null,
      "outputs": []
    },
    {
      "cell_type": "code",
      "source": [
        "tmp = sorted(agro_purpose_df['расстояние'])\n",
        "fig, ax = plt.subplots()\n",
        "ax.bar(range(len(tmp)), tmp)\n",
        "ax.set_title(u'Расстояние земельных участков \\n сельскохозяйственного назначения от города')\n",
        "ax.set_xlabel('Номер земли')\n",
        "ax.set_ylabel('Расстояние до ближайшего города, км')\n",
        "plt.show()"
      ],
      "metadata": {
        "colab": {
          "base_uri": "https://localhost:8080/",
          "height": 310
        },
        "id": "_ObuO2I-1RzR",
        "outputId": "7ce7a398-0ce5-4a20-e2d2-13cfe0cfa853"
      },
      "execution_count": null,
      "outputs": [
        {
          "output_type": "display_data",
          "data": {
            "text/plain": [
              "<Figure size 432x288 with 1 Axes>"
            ],
            "image/png": "[encoded data removed]"
          },
          "metadata": {
            "needs_background": "light"
          }
        }
      ]
    },
    {
      "cell_type": "code",
      "source": [
        "tmp3 = sorted(agro_purpose_df.loc[agro_purpose_df['расстояние'] > 75]['упкс'])\n",
        "fig, ax = plt.subplots()\n",
        "ax.bar(range(len(tmp3)), tmp3)\n",
        "ax.set_title(u'Кадастровая стоимость удаленной от города земли \\n для сельскохозяйственного использования')\n",
        "ax.set_xlabel('Номер земли')\n",
        "ax.set_ylabel('Стоимость квадратного метра земли, руб')\n",
        "plt.show()"
      ],
      "metadata": {
        "colab": {
          "base_uri": "https://localhost:8080/",
          "height": 310
        },
        "id": "1VlEt1Tf1vs8",
        "outputId": "5e89a4cc-0d27-4bc4-a9d0-af909cd9bac3"
      },
      "execution_count": null,
      "outputs": [
        {
          "output_type": "display_data",
          "data": {
            "text/plain": [
              "<Figure size 432x288 with 1 Axes>"
            ],
            "image/png": "[encoded data removed]"
          },
          "metadata": {
            "needs_background": "light"
          }
        }
      ]
    },
    {
      "cell_type": "code",
      "source": [
        "fig, ax = plt.subplots()\n",
        "tmp4 = sorted(agro_purpose_df.loc[agro_purpose_df['расстояние'] < 75]['упкс'])[:1500]\n",
        "plt.bar(range(len(tmp4)), tmp4)\n",
        "ax.set_title(u'Кадастровая стоимость приближенной к городу земли \\n для сельскохозяйственного использования')\n",
        "ax.set_xlabel('Номер земли')\n",
        "ax.set_ylabel('Стоимость квадратного метра земли, руб')\n",
        "plt.show()"
      ],
      "metadata": {
        "colab": {
          "base_uri": "https://localhost:8080/",
          "height": 310
        },
        "id": "BDwhbW7A2qMl",
        "outputId": "40ef6ff0-a381-4bb2-d517-1b7d4871749e"
      },
      "execution_count": null,
      "outputs": [
        {
          "output_type": "display_data",
          "data": {
            "text/plain": [
              "<Figure size 432x288 with 1 Axes>"
            ],
            "image/png": "[encoded data removed]"
          },
          "metadata": {
            "needs_background": "light"
          }
        }
      ]
    },
    {
      "cell_type": "markdown",
      "source": [
        "# 2 Анализ кадастровой стоимости земли для целей ЛПХ"
      ],
      "metadata": {
        "id": "lceDyls57yV4"
      }
    },
    {
      "cell_type": "markdown",
      "source": [
        "##2.1 Подготавливаем данные"
      ],
      "metadata": {
        "id": "AIdtsqfg8YSm"
      }
    },
    {
      "cell_type": "code",
      "source": [
        "lph_purpose_df = pd.DataFrame(columns=[\"площадь\", \"упкс\", \"локация\", \"расстояние\"])\n",
        "lph_purpose_df = pd.read_csv(path_dataset + \"lph.csv\")"
      ],
      "metadata": {
        "id": "0KALuo3e8EJc"
      },
      "execution_count": null,
      "outputs": []
    },
    {
      "cell_type": "code",
      "source": [
        "fig, ax = plt.subplots()\n",
        "\n",
        "tmp10 = sorted(lph_purpose_df['расстояние'])\n",
        "plt.bar(range(len(tmp10)), tmp10, color = 'blue')\n",
        "ax.set_title(u'Расстояние земельных участков для ЛПХ от города')\n",
        "ax.set_xlabel('Номер земли')\n",
        "ax.set_ylabel('Расстояние до ближайшего города, км')\n",
        "plt.show()"
      ],
      "metadata": {
        "colab": {
          "base_uri": "https://localhost:8080/",
          "height": 295
        },
        "id": "s5snRQp9s5XD",
        "outputId": "830408f7-07a0-480b-8ba9-644f8d363ff5"
      },
      "execution_count": null,
      "outputs": [
        {
          "output_type": "display_data",
          "data": {
            "text/plain": [
              "<Figure size 432x288 with 1 Axes>"
            ],
            "image/png": "[encoded data removed]"
          },
          "metadata": {
            "needs_background": "light"
          }
        }
      ]
    },
    {
      "cell_type": "code",
      "source": [
        "for path in path_list:\n",
        "  with open(path, encoding=\"utf-8\") as f:\n",
        "    data = f.read()\n",
        "  data =  json.loads(data)\n",
        "  for row in data:\n",
        "    if ('text' in row['purpose'] and\n",
        "        row['purpose']['text'] == \"Для ведения личного подсобного хозяйства\" and\n",
        "        'locality' in row['address']):\n",
        "      lph_purpose_df.loc[len(lph_purpose_df.index )] = [row['area'], row['cadCost']['upks'], row['address']['locality']]\n",
        "lph_purpose_df.to_csv(path_dataset + \"itog2.csv\")"
      ],
      "metadata": {
        "colab": {
          "base_uri": "https://localhost:8080/"
        },
        "id": "T_-dplup8Nl9",
        "outputId": "9ccb9056-a4bb-46d5-e101-a3f32cd2a396"
      },
      "execution_count": null,
      "outputs": [
        {
          "output_type": "stream",
          "name": "stdout",
          "text": [
            "Empty DataFrame\n",
            "Columns: [площадь, упкс, локация]\n",
            "Index: []\n",
            "<generator object Path.glob at 0x7f52a6272120>\n"
          ]
        }
      ]
    },
    {
      "cell_type": "code",
      "source": [
        "fig, ax = plt.subplots()\n",
        "\n",
        "tmp10 = sorted(lph_purpose_df['упкс'])\n",
        "plt.bar(range(len(tmp10)), tmp10, color = 'blue')\n",
        "ax.set_title(u'Кадастровая стоимость земли для ЛПХ')\n",
        "ax.set_xlabel('Номер земли')\n",
        "ax.set_ylabel('Стоимость квадратного метра земли, руб')\n",
        "plt.show()"
      ],
      "metadata": {
        "colab": {
          "base_uri": "https://localhost:8080/",
          "height": 295
        },
        "id": "_NCbkMds8kz6",
        "outputId": "f44aa8c2-cf30-4ce1-c4a8-d514daee79bd"
      },
      "execution_count": null,
      "outputs": [
        {
          "output_type": "display_data",
          "data": {
            "text/plain": [
              "<Figure size 432x288 with 1 Axes>"
            ],
            "image/png": "[encoded data removed]"
          },
          "metadata": {
            "needs_background": "light"
          }
        }
      ]
    },
    {
      "cell_type": "code",
      "source": [
        "new_lph_df = lph_purpose_df.sample(3000)"
      ],
      "metadata": {
        "id": "cNMqk68n_Tef"
      },
      "execution_count": null,
      "outputs": []
    },
    {
      "cell_type": "code",
      "source": [
        "fig, ax = plt.subplots()\n",
        "\n",
        "tmp10 = sorted(new_lph_df['упкс'])\n",
        "plt.bar(range(len(tmp10)), tmp10, color = 'blue')\n",
        "ax.set_title(u'Кадастровая стоимость земли для ЛПХ')\n",
        "ax.set_xlabel('Номер земли')\n",
        "ax.set_ylabel('Стоимость квадратного метра земли, руб')\n",
        "plt.show()"
      ],
      "metadata": {
        "colab": {
          "base_uri": "https://localhost:8080/",
          "height": 295
        },
        "id": "slXVR3Jh_hg6",
        "outputId": "7c46de11-5866-4830-825e-b24c96c9020c"
      },
      "execution_count": null,
      "outputs": [
        {
          "output_type": "display_data",
          "data": {
            "text/plain": [
              "<Figure size 432x288 with 1 Axes>"
            ],
            "image/png": "[encoded data removed]"
          },
          "metadata": {
            "needs_background": "light"
          }
        }
      ]
    },
    {
      "cell_type": "code",
      "source": [
        "lph_villages = []\n",
        "for row in new_lph_df['локация']:\n",
        "  lph_villages.append(row)\n",
        "short_lph_villages = list(Counter(lph_villages).keys())\n",
        "len(short_lph_villages)"
      ],
      "metadata": {
        "colab": {
          "base_uri": "https://localhost:8080/"
        },
        "id": "nyEYQ8dm_yCF",
        "outputId": "af6f7274-c42d-4d8f-b8b1-cce576f190f1"
      },
      "execution_count": null,
      "outputs": [
        {
          "output_type": "execute_result",
          "data": {
            "text/plain": [
              "352"
            ]
          },
          "metadata": {},
          "execution_count": 194
        }
      ]
    },
    {
      "cell_type": "code",
      "source": [
        "dists_lph = dict()\n",
        "\n",
        "counter = 0\n",
        "for lph_village in short_lph_villages:\n",
        "  counter += 1\n",
        "  print(counter)\n",
        "  dists[lph_village] = dist_near_city(lph_village)"
      ],
      "metadata": {
        "id": "rHx6KgAeAytp"
      },
      "execution_count": null,
      "outputs": []
    },
    {
      "cell_type": "code",
      "source": [
        "d_lph = []\n",
        "counter = 0\n",
        "for village in lph_villages:\n",
        "  d_lph.append(dists[village])\n",
        "new_lph_df['расстояние'] = d_lph\n",
        "new_lph_df.to_csv(path_dataset + \"lph.csv\")"
      ],
      "metadata": {
        "id": "kS1YNR5bBOok"
      },
      "execution_count": null,
      "outputs": []
    },
    {
      "cell_type": "code",
      "source": [
        "new_lph_df"
      ],
      "metadata": {
        "colab": {
          "base_uri": "https://localhost:8080/",
          "height": 423
        },
        "id": "JbiwT6qNEalG",
        "outputId": "4418eb92-d4e8-49d5-d474-d64f04ca5af9"
      },
      "execution_count": null,
      "outputs": [
        {
          "output_type": "execute_result",
          "data": {
            "text/plain": [
              "       площадь     упкс            локация  расстояние\n",
              "370     1490.0   129.65          Зырянское   34.503670\n",
              "23154    500.0   133.51          Малиновка   33.545685\n",
              "59828   1500.0   319.91  Зональная Станция    8.077830\n",
              "35364   1100.0  1176.62             Апрель   13.352126\n",
              "22108   2280.0   166.24           Каргасок  144.230673\n",
              "...        ...      ...                ...         ...\n",
              "11217   1400.0   138.73  Моряковский Затон   29.517926\n",
              "50032   1800.0    33.44         Высокий Яр  104.901817\n",
              "4549    2000.0    40.22         Плотниково  121.915599\n",
              "18954   1698.0    58.77           Батурино   25.758570\n",
              "53978    882.0   104.27           Парабель  118.713317\n",
              "\n",
              "[3000 rows x 4 columns]"
            ],
            "text/html": [
              "\n",
              "  <div id=\"df-b05814d4-f326-483c-9891-088f74b55852\">\n",
              "    <div class=\"colab-df-container\">\n",
              "      <div>\n",
              "<style scoped>\n",
              "    .dataframe tbody tr th:only-of-type {\n",
              "        vertical-align: middle;\n",
              "    }\n",
              "\n",
              "    .dataframe tbody tr th {\n",
              "        vertical-align: top;\n",
              "    }\n",
              "\n",
              "    .dataframe thead th {\n",
              "        text-align: right;\n",
              "    }\n",
              "</style>\n",
              "<table border=\"1\" class=\"dataframe\">\n",
              "  <thead>\n",
              "    <tr style=\"text-align: right;\">\n",
              "      <th></th>\n",
              "      <th>площадь</th>\n",
              "      <th>упкс</th>\n",
              "      <th>локация</th>\n",
              "      <th>расстояние</th>\n",
              "    </tr>\n",
              "  </thead>\n",
              "  <tbody>\n",
              "    <tr>\n",
              "      <th>370</th>\n",
              "      <td>1490.0</td>\n",
              "      <td>129.65</td>\n",
              "      <td>Зырянское</td>\n",
              "      <td>34.503670</td>\n",
              "    </tr>\n",
              "    <tr>\n",
              "      <th>23154</th>\n",
              "      <td>500.0</td>\n",
              "      <td>133.51</td>\n",
              "      <td>Малиновка</td>\n",
              "      <td>33.545685</td>\n",
              "    </tr>\n",
              "    <tr>\n",
              "      <th>59828</th>\n",
              "      <td>1500.0</td>\n",
              "      <td>319.91</td>\n",
              "      <td>Зональная Станция</td>\n",
              "      <td>8.077830</td>\n",
              "    </tr>\n",
              "    <tr>\n",
              "      <th>35364</th>\n",
              "      <td>1100.0</td>\n",
              "      <td>1176.62</td>\n",
              "      <td>Апрель</td>\n",
              "      <td>13.352126</td>\n",
              "    </tr>\n",
              "    <tr>\n",
              "      <th>22108</th>\n",
              "      <td>2280.0</td>\n",
              "      <td>166.24</td>\n",
              "      <td>Каргасок</td>\n",
              "      <td>144.230673</td>\n",
              "    </tr>\n",
              "    <tr>\n",
              "      <th>...</th>\n",
              "      <td>...</td>\n",
              "      <td>...</td>\n",
              "      <td>...</td>\n",
              "      <td>...</td>\n",
              "    </tr>\n",
              "    <tr>\n",
              "      <th>11217</th>\n",
              "      <td>1400.0</td>\n",
              "      <td>138.73</td>\n",
              "      <td>Моряковский Затон</td>\n",
              "      <td>29.517926</td>\n",
              "    </tr>\n",
              "    <tr>\n",
              "      <th>50032</th>\n",
              "      <td>1800.0</td>\n",
              "      <td>33.44</td>\n",
              "      <td>Высокий Яр</td>\n",
              "      <td>104.901817</td>\n",
              "    </tr>\n",
              "    <tr>\n",
              "      <th>4549</th>\n",
              "      <td>2000.0</td>\n",
              "      <td>40.22</td>\n",
              "      <td>Плотниково</td>\n",
              "      <td>121.915599</td>\n",
              "    </tr>\n",
              "    <tr>\n",
              "      <th>18954</th>\n",
              "      <td>1698.0</td>\n",
              "      <td>58.77</td>\n",
              "      <td>Батурино</td>\n",
              "      <td>25.758570</td>\n",
              "    </tr>\n",
              "    <tr>\n",
              "      <th>53978</th>\n",
              "      <td>882.0</td>\n",
              "      <td>104.27</td>\n",
              "      <td>Парабель</td>\n",
              "      <td>118.713317</td>\n",
              "    </tr>\n",
              "  </tbody>\n",
              "</table>\n",
              "<p>3000 rows × 4 columns</p>\n",
              "</div>\n",
              "      <button class=\"colab-df-convert\" onclick=\"convertToInteractive('df-b05814d4-f326-483c-9891-088f74b55852')\"\n",
              "              title=\"Convert this dataframe to an interactive table.\"\n",
              "              style=\"display:none;\">\n",
              "        \n",
              "  <svg xmlns=\"http://www.w3.org/2000/svg\" height=\"24px\"viewBox=\"0 0 24 24\"\n",
              "       width=\"24px\">\n",
              "    <path d=\"M0 0h24v24H0V0z\" fill=\"none\"/>\n",
              "    <path d=\"M18.56 5.44l.94 2.06.94-2.06 2.06-.94-2.06-.94-.94-2.06-.94 2.06-2.06.94zm-11 1L8.5 8.5l.94-2.06 2.06-.94-2.06-.94L8.5 2.5l-.94 2.06-2.06.94zm10 10l.94 2.06.94-2.06 2.06-.94-2.06-.94-.94-2.06-.94 2.06-2.06.94z\"/><path d=\"M17.41 7.96l-1.37-1.37c-.4-.4-.92-.59-1.43-.59-.52 0-1.04.2-1.43.59L10.3 9.45l-7.72 7.72c-.78.78-.78 2.05 0 2.83L4 21.41c.39.39.9.59 1.41.59.51 0 1.02-.2 1.41-.59l7.78-7.78 2.81-2.81c.8-.78.8-2.07 0-2.86zM5.41 20L4 18.59l7.72-7.72 1.47 1.35L5.41 20z\"/>\n",
              "  </svg>\n",
              "      </button>\n",
              "      \n",
              "  <style>\n",
              "    .colab-df-container {\n",
              "      display:flex;\n",
              "      flex-wrap:wrap;\n",
              "      gap: 12px;\n",
              "    }\n",
              "\n",
              "    .colab-df-convert {\n",
              "      background-color: #E8F0FE;\n",
              "      border: none;\n",
              "      border-radius: 50%;\n",
              "      cursor: pointer;\n",
              "      display: none;\n",
              "      fill: #1967D2;\n",
              "      height: 32px;\n",
              "      padding: 0 0 0 0;\n",
              "      width: 32px;\n",
              "    }\n",
              "\n",
              "    .colab-df-convert:hover {\n",
              "      background-color: #E2EBFA;\n",
              "      box-shadow: 0px 1px 2px rgba(60, 64, 67, 0.3), 0px 1px 3px 1px rgba(60, 64, 67, 0.15);\n",
              "      fill: #174EA6;\n",
              "    }\n",
              "\n",
              "    [theme=dark] .colab-df-convert {\n",
              "      background-color: #3B4455;\n",
              "      fill: #D2E3FC;\n",
              "    }\n",
              "\n",
              "    [theme=dark] .colab-df-convert:hover {\n",
              "      background-color: #434B5C;\n",
              "      box-shadow: 0px 1px 3px 1px rgba(0, 0, 0, 0.15);\n",
              "      filter: drop-shadow(0px 1px 2px rgba(0, 0, 0, 0.3));\n",
              "      fill: #FFFFFF;\n",
              "    }\n",
              "  </style>\n",
              "\n",
              "      <script>\n",
              "        const buttonEl =\n",
              "          document.querySelector('#df-b05814d4-f326-483c-9891-088f74b55852 button.colab-df-convert');\n",
              "        buttonEl.style.display =\n",
              "          google.colab.kernel.accessAllowed ? 'block' : 'none';\n",
              "\n",
              "        async function convertToInteractive(key) {\n",
              "          const element = document.querySelector('#df-b05814d4-f326-483c-9891-088f74b55852');\n",
              "          const dataTable =\n",
              "            await google.colab.kernel.invokeFunction('convertToInteractive',\n",
              "                                                     [key], {});\n",
              "          if (!dataTable) return;\n",
              "\n",
              "          const docLinkHtml = 'Like what you see? Visit the ' +\n",
              "            '<a target=\"_blank\" href=https://colab.research.google.com/notebooks/data_table.ipynb>data table notebook</a>'\n",
              "            + ' to learn more about interactive tables.';\n",
              "          element.innerHTML = '';\n",
              "          dataTable['output_type'] = 'display_data';\n",
              "          await google.colab.output.renderOutput(dataTable, element);\n",
              "          const docLink = document.createElement('div');\n",
              "          docLink.innerHTML = docLinkHtml;\n",
              "          element.appendChild(docLink);\n",
              "        }\n",
              "      </script>\n",
              "    </div>\n",
              "  </div>\n",
              "  "
            ]
          },
          "metadata": {},
          "execution_count": 201
        }
      ]
    },
    {
      "cell_type": "code",
      "source": [
        "fig, ax = plt.subplots()\n",
        "\n",
        "tmp11 = sorted(new_lph_df['расстояние'])\n",
        "plt.bar(range(len(tmp11)), tmp11, color = 'blue')\n",
        "ax.set_title(u'Расстояние земельных участков \\n ЛПХ назначения от города')\n",
        "ax.set_xlabel('Номер земли')\n",
        "ax.set_ylabel('Стоимость квадратного метра земли, руб')\n",
        "plt.show()"
      ],
      "metadata": {
        "colab": {
          "base_uri": "https://localhost:8080/",
          "height": 310
        },
        "id": "nY5t6xjjEoSh",
        "outputId": "b94773b8-dd75-4d18-8281-5579cf4c7d57"
      },
      "execution_count": null,
      "outputs": [
        {
          "output_type": "display_data",
          "data": {
            "text/plain": [
              "<Figure size 432x288 with 1 Axes>"
            ],
            "image/png": "[encoded data removed]"
          },
          "metadata": {
            "needs_background": "light"
          }
        }
      ]
    },
    {
      "cell_type": "code",
      "source": [
        "tmp13 = sorted(new_lph_df.loc[new_lph_df['расстояние'] > 75]['упкс'])\n",
        "fig, ax = plt.subplots()\n",
        "ax.bar(range(len(tmp13)), tmp13, color='b')\n",
        "ax.set_title(u'Кадастровая стоимость удаленной \\n от города земли ЛПХ назначения')\n",
        "ax.set_xlabel('Номер земли')\n",
        "ax.set_ylabel('Стоимость квадратного метра земли, руб')\n",
        "plt.show()"
      ],
      "metadata": {
        "colab": {
          "base_uri": "https://localhost:8080/",
          "height": 310
        },
        "id": "23kG-6_hFVlj",
        "outputId": "f2c2d936-5bbc-48ce-c4a9-e457c5fdfcf4"
      },
      "execution_count": null,
      "outputs": [
        {
          "output_type": "display_data",
          "data": {
            "text/plain": [
              "<Figure size 432x288 with 1 Axes>"
            ],
            "image/png": "[encoded data removed]"
          },
          "metadata": {
            "needs_background": "light"
          }
        }
      ]
    },
    {
      "cell_type": "code",
      "source": [
        "tmp14 = sorted(new_lph_df.loc[new_lph_df['расстояние'] < 75]['упкс'])[:2000]\n",
        "fig, ax = plt.subplots()\n",
        "ax.bar(range(len(tmp14)), tmp14, color='b')\n",
        "ax.set_title(u'Кадастровая стоимость приближенной \\n к городу земли ЛПХ назначения')\n",
        "ax.set_xlabel('Номер земли')\n",
        "ax.set_ylabel('Стоимость квадратного метра земли, руб')\n",
        "plt.show()"
      ],
      "metadata": {
        "colab": {
          "base_uri": "https://localhost:8080/",
          "height": 310
        },
        "id": "WmaYy_bpGfSU",
        "outputId": "025df645-d0cf-49dd-a478-1b1951ee36d3"
      },
      "execution_count": null,
      "outputs": [
        {
          "output_type": "display_data",
          "data": {
            "text/plain": [
              "<Figure size 432x288 with 1 Axes>"
            ],
            "image/png": "[encoded data removed]"
          },
          "metadata": {
            "needs_background": "light"
          }
        }
      ]
    }
  ]
}